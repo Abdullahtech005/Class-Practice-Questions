{
 "cells": [
  {
   "cell_type": "code",
   "execution_count": 9,
   "id": "4ae2a727-90e2-4c39-af8f-405117cb6e57",
   "metadata": {},
   "outputs": [],
   "source": [
    "# Muhammad Abdullah\n",
    "# FA24-BBD-107"
   ]
  },
  {
   "cell_type": "code",
   "execution_count": 11,
   "id": "b7475be5",
   "metadata": {},
   "outputs": [
    {
     "name": "stdout",
     "output_type": "stream",
     "text": [
      "Abdullah\n"
     ]
    }
   ],
   "source": [
    "# Q:1\n",
    "class Person:\n",
    "    def __init__(self, name, age, city):\n",
    "        self.name = name\n",
    "        self.age = age\n",
    "        self.city = city\n",
    "\n",
    "# Creating an instance of the Person class\n",
    "person1 = Person('Abdullah', 19, 'Faisalabad')\n",
    "\n",
    "# Printing the name attribute of the person1 object\n",
    "print(person1.name)\n"
   ]
  },
  {
   "cell_type": "code",
   "execution_count": 13,
   "id": "d45b3e62",
   "metadata": {},
   "outputs": [
    {
     "name": "stdout",
     "output_type": "stream",
     "text": [
      "Ford Mustang\n"
     ]
    }
   ],
   "source": [
    "# Q:2\n",
    "class Car:\n",
    "    def __init__(self, make, model, year):\n",
    "        self.make = make\n",
    "        self.model = model\n",
    "        self.year = year\n",
    "\n",
    "# Creating an instance of the Car class\n",
    "car1 = Car('Ford', 'Ford Mustang', 2008)\n",
    "\n",
    "# Printing the model of the car1 object\n",
    "print(car1.model)\n"
   ]
  },
  {
   "cell_type": "code",
   "execution_count": 15,
   "id": "2b6d7f67",
   "metadata": {},
   "outputs": [
    {
     "name": "stdout",
     "output_type": "stream",
     "text": [
      "Area: 78.53975\n",
      "Circumference: 31.4159\n"
     ]
    }
   ],
   "source": [
    "# Q:3\n",
    "class Circle:\n",
    "    def __init__(self, radius):\n",
    "        self.radius = radius\n",
    "\n",
    "    def calculate_area(self):\n",
    "        return 3.14159 * (self.radius ** 2)\n",
    "\n",
    "    def calculate_circumference(self):\n",
    "        return 2 * 3.14159 * self.radius\n",
    "\n",
    "# Example usage:\n",
    "circle = Circle(5)\n",
    "print(\"Area:\", circle.calculate_area())\n",
    "print(\"Circumference:\", circle.calculate_circumference())\n"
   ]
  },
  {
   "cell_type": "code",
   "execution_count": 17,
   "id": "b98d1ed8",
   "metadata": {},
   "outputs": [
    {
     "name": "stdout",
     "output_type": "stream",
     "text": [
      "Area: 15\n",
      "Perimeter: 16\n"
     ]
    }
   ],
   "source": [
    "# Q:4\n",
    "class Rectangle:\n",
    "    def __init__(self, length, width):\n",
    "        self.length = length\n",
    "        self.width = width\n",
    "        \n",
    "    def calculate_area(self):\n",
    "        return self.length * self.width\n",
    "    def calculate_perimeter(self):\n",
    "        return 2*( self.length + self.width)\n",
    "rectangle = Rectangle(5, 3)\n",
    "print(\"Area:\", rectangle.calculate_area())\n",
    "print(\"Perimeter:\", rectangle.calculate_perimeter())"
   ]
  },
  {
   "cell_type": "code",
   "execution_count": 19,
   "id": "f2fb0dd7",
   "metadata": {},
   "outputs": [
    {
     "name": "stdout",
     "output_type": "stream",
     "text": [
      "Average Marks: 86.6\n"
     ]
    }
   ],
   "source": [
    "# Q:5\n",
    "class Student:\n",
    "    def __init__(self, name, roll_number, marks):\n",
    "        self.name = name\n",
    "        self.roll_number = roll_number\n",
    "        self.marks = marks\n",
    "    \n",
    "    def calculate_average(self):\n",
    "        if len(self.marks) == 0:\n",
    "            return 0 \n",
    "        return sum(self.marks) / len(self.marks)\n",
    "\n",
    "\n",
    "student = Student(\"Alice\", 101, [85, 90, 78, 92, 88])\n",
    "\n",
    "\n",
    "print(\"Average Marks:\", student.calculate_average())\n"
   ]
  },
  {
   "cell_type": "code",
   "execution_count": 21,
   "id": "2b7a20e2",
   "metadata": {},
   "outputs": [
    {
     "name": "stdout",
     "output_type": "stream",
     "text": [
      "'The Red and the Black' by Stendhal, published in 1830\n"
     ]
    }
   ],
   "source": [
    "# Q:6\n",
    "class Book:\n",
    "    def __init__(self, title, author, publication_year):\n",
    "        self.title = title\n",
    "        self.author = author\n",
    "        self.publication_year = publication_year\n",
    "\n",
    "    def __str__(self):\n",
    "        return f\"'{self.title}' by {self.author}, published in {self.publication_year}\"\n",
    "\n",
    "book1 = Book(\"The Red and the Black\", \"Stendhal\", 1830)\n",
    "print(book1)\n"
   ]
  },
  {
   "cell_type": "code",
   "execution_count": 23,
   "id": "861c9fc6-4d9a-4ea3-b62d-d17a00bd759d",
   "metadata": {},
   "outputs": [
    {
     "name": "stdout",
     "output_type": "stream",
     "text": [
      "Employee: Akmal, Designation: Data Analytist, Salary: $50000\n"
     ]
    }
   ],
   "source": [
    "# Q:7\n",
    "class Employee:\n",
    "    def __init__(self, name, salary, designation):\n",
    "        self.name = name\n",
    "        self.salary = salary\n",
    "        self.designation = designation\n",
    "\n",
    "    def __str__(self):\n",
    "        return f\"Employee: {self.name}, Designation: {self.designation}, Salary: ${self.salary}\"\n",
    "\n",
    "employee1 = Employee(\"Akmal\", 50000, \"Data Analytist\")\n",
    "print(employee1)\n"
   ]
  },
  {
   "cell_type": "code",
   "execution_count": 25,
   "id": "f1fb5cfb-5876-4c49-9991-d4f9f6402ad1",
   "metadata": {},
   "outputs": [
    {
     "name": "stdout",
     "output_type": "stream",
     "text": [
      "Account holder: Aslam, Account Number: 123456789, Balance: Rs.1000\n",
      "Deposited Rs.500. New balance is Rs.1500.\n",
      "Withdrew Rs.300. New balance is Rs.1200.\n",
      "Insufficient funds.\n",
      "Account holder: Aslam, Account Number: 123456789, Balance: Rs.1200\n"
     ]
    }
   ],
   "source": [
    "# Q:8\n",
    "class Bank:\n",
    "    def __init__(self, name, account_number, balance=0):\n",
    "        self.name = name\n",
    "        self.account_number = account_number\n",
    "        self.balance = balance\n",
    "\n",
    "    def deposit(self, amount):\n",
    "        if amount > 0:\n",
    "            self.balance += amount\n",
    "            print(f\"Deposited Rs.{amount}. New balance is Rs.{self.balance}.\")\n",
    "        else:\n",
    "            print(\"Deposit amount must be positive.\")\n",
    "\n",
    "    def withdraw(self, amount):\n",
    "        if amount > 0:\n",
    "            if amount <= self.balance:\n",
    "                self.balance -= amount\n",
    "                print(f\"Withdrew Rs.{amount}. New balance is Rs.{self.balance}.\")\n",
    "            else:\n",
    "                print(\"Insufficient funds.\")\n",
    "        else:\n",
    "            print(\"Withdrawal amount must be positive.\")\n",
    "\n",
    "    def __str__(self):\n",
    "        return f\"Account holder: {self.name}, Account Number: {self.account_number}, Balance: Rs.{self.balance}\"\n",
    "\n",
    "account1 = Bank(\"Aslam\", \"123456789\", 1000)\n",
    "print(account1)\n",
    "\n",
    "account1.deposit(500)\n",
    "account1.withdraw(300)\n",
    "account1.withdraw(2000)  \n",
    "print(account1)\n"
   ]
  },
  {
   "cell_type": "code",
   "execution_count": null,
   "id": "93a31d76-308d-42f2-85bd-a5dc72350ce8",
   "metadata": {},
   "outputs": [],
   "source": []
  }
 ],
 "metadata": {
  "kernelspec": {
   "display_name": "Python 3 (ipykernel)",
   "language": "python",
   "name": "python3"
  },
  "language_info": {
   "codemirror_mode": {
    "name": "ipython",
    "version": 3
   },
   "file_extension": ".py",
   "mimetype": "text/x-python",
   "name": "python",
   "nbconvert_exporter": "python",
   "pygments_lexer": "ipython3",
   "version": "3.12.4"
  }
 },
 "nbformat": 4,
 "nbformat_minor": 5
}
